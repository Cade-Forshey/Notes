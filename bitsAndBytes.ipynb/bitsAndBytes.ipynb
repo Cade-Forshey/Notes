{
 "cells": [
  {
   "cell_type": "markdown",
   "id": "d1baa184",
   "metadata": {},
   "source": [
    "# Bits And Bytes"
   ]
  },
  {
   "cell_type": "markdown",
   "id": "fc5a8c16",
   "metadata": {},
   "source": [
    "Bit - Smallest unit of data. A bit is represented by either a 1 or 0\n",
    "\n",
    "- you can differentiate  between 10000 \"Mega Bytes\"\n",
    "\n",
    "Byte - String of 0's and 1's\n",
    "\n",
    "A -- 01000001\n",
    "Cade -- 01001011 01100001 01100100 01100101\n",
    "Computer Science -- 01000011 01101111 01101101 01110000 01110101 01110100 01100101 01110010 00100000 01010011 01100011 01101001 01100101 01101110 01100011 01100101\n",
    "\n",
    "255 -- 00110010 00110101 00110101"
   ]
  },
  {
   "cell_type": "markdown",
   "id": "7eb2ffb2",
   "metadata": {},
   "source": [
    "### Representing Color"
   ]
  },
  {
   "cell_type": "markdown",
   "id": "9204be8d",
   "metadata": {},
   "source": [
    "- Hexidecimal -- #33 99 ee\n",
    "- RGB -- (255, 145, 98) -- 00110010 00110101 00110101, 00110001 00110100 00110101, 00111001 00111000"
   ]
  },
  {
   "cell_type": "markdown",
   "id": "f440fd0e",
   "metadata": {},
   "source": [
    "\n",
    "\n",
    "### Series Of Bits\n",
    "\n",
    "\n",
    "2 bits -- 4 different combinations: 00, 01, 10, 11\n",
    "3 bits -- 8 different combinations 000, 001, 010, 011, 100, 101, 110, 111\n",
    "4 bits -- 16 different combinations\n",
    "5 bits -- 32 different combinations\n",
    "6 bits -- 64 different combinations\n",
    "7 bits -- 128 different combinations\n",
    "8 bits -- 256 different combinations\n",
    "9 bits -- 512 different combinations\n",
    "10 bits -- 1024 different combinations\n"
   ]
  },
  {
   "cell_type": "markdown",
   "id": "3e584efd",
   "metadata": {},
   "source": [
    "### Bytes - is a combination of 8 bits"
   ]
  },
  {
   "cell_type": "markdown",
   "id": "219c4dc8",
   "metadata": {},
   "source": [
    "0000 0101"
   ]
  }
 ],
 "metadata": {
  "language_info": {
   "name": "python"
  }
 },
 "nbformat": 4,
 "nbformat_minor": 5
}
